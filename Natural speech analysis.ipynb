{
 "cells": [
  {
   "cell_type": "markdown",
   "metadata": {},
   "source": [
    "## Analysis of bilingual children's word use frequency\n",
    "This notebook contains the code to identify the top 5 words used in aggregate by children in the [Corpus of bilingual children's speech](https://www.kaggle.com/rtatman/corpus-of-bilingual-childrens-speech) and relate the use of these five words to age. <br>\n",
    "Sections:\n",
    "1. [Transcript processing & word extraction](#preprocessing)\n",
    "2. [Identifying the 5 most used words](#top5words)\n",
    "3. [Word use frequency by child](#wordsbychild)\n",
    "4. [Word use as proportion of all words by child](#wordpropbychild)\n",
    "5. [Exploratory analysis: word clouds by age tertile](#wordclouds)"
   ]
  },
  {
   "cell_type": "code",
   "execution_count": 2,
   "metadata": {},
   "outputs": [],
   "source": [
    "## load libraries\n",
    "library(ggplot2) # plotting\n",
    "library(tidyverse) # data wrangling\n",
    "library(tidytext) # text analysis\n",
    "library(MetBrewer) # color palettes\n",
    "library(car) # anova wrapper\n",
    "library(effectsize) # effect size estimates"
   ]
  },
  {
   "cell_type": "markdown",
   "metadata": {},
   "source": [
    "### Transcript processing & word extraction <a name=\"preprocessing\"></a>\n",
    "First, we want to loop over the transcripts and extract each word spoken by each child. The basic 'unnest_tokens' function already removes punctuation, but within the loop, we also remove responses coded with '0' (no response), and 'xxx' (unintelligible speech). "
   ]
  },
  {
   "cell_type": "code",
   "execution_count": 4,
   "metadata": {},
   "outputs": [],
   "source": [
    "# get data summary & child demographics\n",
    "data_guide <- read.csv('archive/guide_to_files.csv')\n",
    "# remove spaces in the file_name column to avoid merging errors later\n",
    "data_guide$file_name <- gsub(\" \", \"\", data_guide$file_name)"
   ]
  },
  {
   "cell_type": "code",
   "execution_count": 5,
   "metadata": {},
   "outputs": [],
   "source": [
    "# get list of all files\n",
    "file_list <- list.files(path=\"archive\", pattern=\"*.cha\", full.names=T)\n",
    "\n",
    "# initialize empty list to save individual words per child\n",
    "word_list <- list()\n",
    "\n",
    "# loop over files\n",
    "for (i in 1:length(file_list)){\n",
    "     \n",
    "  # extract only file name \n",
    "  file_name <- gsub(\"archive/\", \"\", file_list[i])\n",
    "  \n",
    "  file_text <- readLines(file_list[i])\n",
    "  child_speech <- as.data.frame(file_text[grep(\"\\\\*CHI:\",file_text)])\n",
    "    \n",
    "  # give temporary column name to enable splitting\n",
    "  colnames(child_speech) <- c('temp')\n",
    "  \n",
    "  # split into columns to make tidytext analysis cleaner\n",
    "  # split on 'HI:' instead of ':' only to avoid losing any content\n",
    "  # rename first column as 'file_name'\n",
    "  # this will enable us to bind the word count information with demographics\n",
    "  child_speech <- separate(data = child_speech, col = temp, into = c(\"file_name\", \"content\"), sep = \"HI:\")\n",
    "  child_speech$file_name <- file_name\n",
    "  \n",
    "  # get all tokens (= words)\n",
    "  child_words <- child_speech %>% \n",
    "    unnest_tokens(word, content)\n",
    "  \n",
    "  # the unnest_tokens command has already filtered out punctuation \n",
    "  # e.g. (.) pauses and <> overlapped speech  \n",
    "  # but we also want to filter out 0 (no response)\n",
    "  # and xxx (presumably, muddled speech?)\n",
    "  child_words_filtered <- filter(child_words, word != 'xxx' & word != 0)\n",
    "  \n",
    "  # now save the full dataframe to the list\n",
    "  word_list[[i]] <- child_words_filtered\n",
    "  \n",
    "}"
   ]
  },
  {
   "cell_type": "markdown",
   "metadata": {},
   "source": [
    "### Identifying the five most used words <a name=\"top5words\"></a>\n",
    "We have now processed the transcripts and extracted each individual word. We now want to summarize this dataset and find the 5 most used words in aggregate."
   ]
  },
  {
   "cell_type": "code",
   "execution_count": 9,
   "metadata": {},
   "outputs": [
    {
     "data": {
      "text/html": [
       "<table>\n",
       "<caption>A tibble: 5 × 2</caption>\n",
       "<thead>\n",
       "\t<tr><th scope=col>word</th><th scope=col>n</th></tr>\n",
       "\t<tr><th scope=col>&lt;chr&gt;</th><th scope=col>&lt;int&gt;</th></tr>\n",
       "</thead>\n",
       "<tbody>\n",
       "\t<tr><td>i   </td><td>3177</td></tr>\n",
       "\t<tr><td>yeah</td><td>2261</td></tr>\n",
       "\t<tr><td>and </td><td>1924</td></tr>\n",
       "\t<tr><td>a   </td><td>1204</td></tr>\n",
       "\t<tr><td>the </td><td>1123</td></tr>\n",
       "</tbody>\n",
       "</table>\n"
      ],
      "text/latex": [
       "A tibble: 5 × 2\n",
       "\\begin{tabular}{ll}\n",
       " word & n\\\\\n",
       " <chr> & <int>\\\\\n",
       "\\hline\n",
       "\t i    & 3177\\\\\n",
       "\t yeah & 2261\\\\\n",
       "\t and  & 1924\\\\\n",
       "\t a    & 1204\\\\\n",
       "\t the  & 1123\\\\\n",
       "\\end{tabular}\n"
      ],
      "text/markdown": [
       "\n",
       "A tibble: 5 × 2\n",
       "\n",
       "| word &lt;chr&gt; | n &lt;int&gt; |\n",
       "|---|---|\n",
       "| i    | 3177 |\n",
       "| yeah | 2261 |\n",
       "| and  | 1924 |\n",
       "| a    | 1204 |\n",
       "| the  | 1123 |\n",
       "\n"
      ],
      "text/plain": [
       "  word n   \n",
       "1 i    3177\n",
       "2 yeah 2261\n",
       "3 and  1924\n",
       "4 a    1204\n",
       "5 the  1123"
      ]
     },
     "metadata": {},
     "output_type": "display_data"
    }
   ],
   "source": [
    "# combine word list & extract top 5 words *in aggregate* across all kids\n",
    "top_five_overall <- bind_rows(word_list) %>%\n",
    "  count(word, sort = T) %>%\n",
    "  head(.,5)\n",
    "\n",
    "# look at top five words\n",
    "top_five_overall"
   ]
  },
  {
   "cell_type": "code",
   "execution_count": 140,
   "metadata": {},
   "outputs": [
    {
     "data": {
      "image/png": "[encoded data removed]",
      "text/plain": [
       "plot without title"
      ]
     },
     "metadata": {
      "image/png": {
       "height": 420,
       "width": 420
      }
     },
     "output_type": "display_data"
    }
   ],
   "source": [
    "# bar plot of word use frequency\n",
    "ggplot(data = top_five_overall, aes(x = word, y = n)) +\n",
    "  geom_bar(stat = 'identity', aes(fill = word)) +\n",
    "  scale_fill_manual(values=met.brewer(\"Hokusai1\")[c(2,4:7)]) +\n",
    "  theme_minimal(base_size = 18) +\n",
    "  theme(panel.grid.major = element_blank(), \n",
    "        panel.grid.minor = element_blank(),\n",
    "        axis.text.x=element_text(colour=\"black\"),\n",
    "        axis.text.y=element_text(colour=\"black\"),\n",
    "        legend.position=\"none\") +\n",
    "  xlab('Word') + ylab('Frequency of use')"
   ]
  },
  {
   "cell_type": "markdown",
   "metadata": {},
   "source": [
    "### Word use frequency by child <a name=\"wordsbychild\"></a>\n",
    "We now know the top 5 most used words. Now, we want to figure out the number of times each child used each word in their interview. To do this, we will first isolate only the top 5 words in aggregate in each child's data, and then append their ages to the dataset."
   ]
  },
  {
   "cell_type": "code",
   "execution_count": 32,
   "metadata": {},
   "outputs": [],
   "source": [
    "# count unique words per child\n",
    "child_word_count_all <- bind_rows(word_list) %>%\n",
    "  group_by(file_name) %>%\n",
    "  count(word)\n",
    "\n",
    "# keep only counts of the aggregate top 5 words\n",
    "top_five_by_child = merge(child_word_count_all, top_five_overall, by='word')\n",
    "\n",
    "# rename columns to make them more intuitive\n",
    "colnames(top_five_by_child) <- c('word','file_name','count_child','count_overall')\n",
    "\n",
    "# remove spaces to fix merging issues that appeared later on\n",
    "top_five_by_child$file_name <- gsub(\" \", \"\", top_five_by_child$file_name)\n",
    "\n",
    "# combine with data guide: append kids' ages\n",
    "# keep only the data guide columns we care about\n",
    "data_guide_short <- data_guide %>%\n",
    "  select(file_name, age_at_recording_months)\n",
    "\n",
    "# now merge with word data\n",
    "top_five_by_child <- merge(data_guide_short,top_five_by_child, by='file_name')\n",
    "\n",
    "top_five_by_child$file_name <- as.factor(top_five_by_child$file_name)"
   ]
  },
  {
   "cell_type": "markdown",
   "metadata": {},
   "source": [
    "The dataframe 'top_five_by_child' contains the number of times each child used each of the 5 most used words. We can now plot these data, split by word."
   ]
  },
  {
   "cell_type": "code",
   "execution_count": 143,
   "metadata": {},
   "outputs": [
    {
     "name": "stderr",
     "output_type": "stream",
     "text": [
      "`geom_smooth()` using formula 'y ~ x'\n",
      "\n"
     ]
    },
    {
     "data": {
      "image/png": "[encoded data removed]",
      "text/plain": [
       "plot without title"
      ]
     },
     "metadata": {
      "image/png": {
       "height": 420,
       "width": 420
      }
     },
     "output_type": "display_data"
    }
   ],
   "source": [
    "# for plotting\n",
    "top_five_by_child$Word <- as.factor(top_five_by_child$word)\n",
    "\n",
    "# plot against age\n",
    "ggplot(data = top_five_by_child, aes(x = age_at_recording_months, y = count_child, color = Word)) +\n",
    "  geom_smooth(aes(group = Word, color = Word), method = 'lm', se = F) +\n",
    "  geom_point(size = 2) + \n",
    "  scale_color_manual(values=met.brewer(\"Hokusai1\")[c(2,4:7)]) +\n",
    "  theme_minimal(base_size = 18) +\n",
    "  theme(panel.grid.major = element_blank(), \n",
    "        panel.grid.minor = element_blank(),\n",
    "        axis.text.x=element_text(colour=\"black\"),\n",
    "        axis.text.y=element_text(colour=\"black\")) +\n",
    "  xlab('Age at recording (months)') + ylab('Word count')"
   ]
  },
  {
   "cell_type": "markdown",
   "metadata": {},
   "source": [
    "We can now enter all of the data into a single omnibus ANOVA. This analysis tells us whether there is a general trend for some words to be used more or less, and whether there is an interaction between age and word use."
   ]
  },
  {
   "cell_type": "code",
   "execution_count": 33,
   "metadata": {},
   "outputs": [
    {
     "data": {
      "text/plain": [
       "\n",
       "Error: file_name\n",
       "                        Df Sum Sq Mean Sq F value Pr(>F)\n",
       "age_at_recording_months  1    195     195   0.026  0.873\n",
       "Residuals               22 162503    7387               \n",
       "\n",
       "Error: file_name:word\n",
       "                             Df Sum Sq Mean Sq F value   Pr(>F)    \n",
       "word                          4 118443   29611  10.286 7.02e-07 ***\n",
       "word:age_at_recording_months  4  17208    4302   1.494    0.211    \n",
       "Residuals                    88 253328    2879                     \n",
       "---\n",
       "Signif. codes:  0 '***' 0.001 '**' 0.01 '*' 0.05 '.' 0.1 ' ' 1"
      ]
     },
     "metadata": {},
     "output_type": "display_data"
    }
   ],
   "source": []
  },
  {
   "cell_type": "markdown",
   "metadata": {},
   "source": [
    "We find a significant main effect of word, meaning that some words are consistently used more than others. However, there is no significant interaction between age and word use.\n",
    "While the interaction in the ANOVA was not significant, we are still interested in the relationship between age and each of the words. We can run a series of correlations to determine whether the use of each of these words is significantly related to age, and use a Bonferroni correction for multiple comparisons (i.e., alpha level equals 0.05 / 5 = .01)."
   ]
  },
  {
   "cell_type": "code",
   "execution_count": 41,
   "metadata": {},
   "outputs": [
    {
     "data": {
      "text/plain": [
       "\n",
       "\tPearson's product-moment correlation\n",
       "\n",
       "data:  top_five_wide$age_at_recording_months and top_five_wide$count_child.i\n",
       "t = 0.10664, df = 22, p-value = 0.916\n",
       "alternative hypothesis: true correlation is not equal to 0\n",
       "95 percent confidence interval:\n",
       " -0.3841904  0.4222540\n",
       "sample estimates:\n",
       "       cor \n",
       "0.02272885 \n"
      ]
     },
     "metadata": {},
     "output_type": "display_data"
    },
    {
     "data": {
      "text/plain": [
       "\n",
       "\tPearson's product-moment correlation\n",
       "\n",
       "data:  top_five_wide$age_at_recording_months and top_five_wide$count_child.a\n",
       "t = 0.72804, df = 22, p-value = 0.4743\n",
       "alternative hypothesis: true correlation is not equal to 0\n",
       "95 percent confidence interval:\n",
       " -0.2665053  0.5243353\n",
       "sample estimates:\n",
       "     cor \n",
       "0.153381 \n"
      ]
     },
     "metadata": {},
     "output_type": "display_data"
    },
    {
     "data": {
      "text/plain": [
       "\n",
       "\tPearson's product-moment correlation\n",
       "\n",
       "data:  top_five_wide$age_at_recording_months and top_five_wide$count_child.and\n",
       "t = 0.64827, df = 22, p-value = 0.5235\n",
       "alternative hypothesis: true correlation is not equal to 0\n",
       "95 percent confidence interval:\n",
       " -0.2820647  0.5120281\n",
       "sample estimates:\n",
       "      cor \n",
       "0.1369102 \n"
      ]
     },
     "metadata": {},
     "output_type": "display_data"
    },
    {
     "data": {
      "text/plain": [
       "\n",
       "\tPearson's product-moment correlation\n",
       "\n",
       "data:  top_five_wide$age_at_recording_months and top_five_wide$count_child.the\n",
       "t = 1.8873, df = 22, p-value = 0.07238\n",
       "alternative hypothesis: true correlation is not equal to 0\n",
       "95 percent confidence interval:\n",
       " -0.03544602  0.67503587\n",
       "sample estimates:\n",
       "      cor \n",
       "0.3732883 \n"
      ]
     },
     "metadata": {},
     "output_type": "display_data"
    },
    {
     "data": {
      "text/plain": [
       "\n",
       "\tPearson's product-moment correlation\n",
       "\n",
       "data:  top_five_wide$age_at_recording_months and top_five_wide$count_child.yeah\n",
       "t = -1.3068, df = 22, p-value = 0.2048\n",
       "alternative hypothesis: true correlation is not equal to 0\n",
       "95 percent confidence interval:\n",
       " -0.6061608  0.1513959\n",
       "sample estimates:\n",
       "       cor \n",
       "-0.2683922 \n"
      ]
     },
     "metadata": {},
     "output_type": "display_data"
    }
   ],
   "source": [
    "# simple correlations\n",
    "# first, switch from long to wide\n",
    "\n",
    "#top_five_by_child\n",
    "top_five_wide <- reshape(top_five_by_child, idvar = c(\"file_name\",\"age_at_recording_months\"), timevar = \"word\", direction = \"wide\")\n",
    "\n",
    "# correlations\n",
    "# word: i\n",
    "cor.test(top_five_wide$age_at_recording_months, top_five_wide$count_child.i)\n",
    "\n",
    "# word: a\n",
    "cor.test(top_five_wide$age_at_recording_months, top_five_wide$count_child.a)\n",
    "\n",
    "# word: and\n",
    "cor.test(top_five_wide$age_at_recording_months, top_five_wide$count_child.and)\n",
    "\n",
    "# word: the\n",
    "cor.test(top_five_wide$age_at_recording_months, top_five_wide$count_child.the)\n",
    "\n",
    "# word: yeah\n",
    "cor.test(top_five_wide$age_at_recording_months, top_five_wide$count_child.yeah)"
   ]
  },
  {
   "cell_type": "markdown",
   "metadata": {},
   "source": [
    "### Word use as proportion of all words by child <a name=\"wordpropbychild\"></a>\n",
    "The data above suggest that the word use frequency changes somewhat with age, but not significantly so. One possible confound we should explore is the <i>total</i> number of words spoken by children of different ages. To address this, we can instead represent each of the five words as the proportion of the <i>total</i> number of words spoken. This would account for any potential differences in how prominent each word is in each child's vocabulary and how verbose each child is."
   ]
  },
  {
   "cell_type": "code",
   "execution_count": 62,
   "metadata": {},
   "outputs": [
    {
     "data": {
      "text/plain": [
       "\n",
       "\tPearson's product-moment correlation\n",
       "\n",
       "data:  child_word_count_total$age_at_recording_months and child_word_count_total$n\n",
       "t = 0.83303, df = 22, p-value = 0.4138\n",
       "alternative hypothesis: true correlation is not equal to 0\n",
       "95 percent confidence interval:\n",
       " -0.2458747  0.5401597\n",
       "sample estimates:\n",
       "      cor \n",
       "0.1748661 \n"
      ]
     },
     "metadata": {},
     "output_type": "display_data"
    },
    {
     "name": "stderr",
     "output_type": "stream",
     "text": [
      "`geom_smooth()` using formula 'y ~ x'\n",
      "\n"
     ]
    },
    {
     "data": {
      "image/png": "[encoded data removed]",
      "text/plain": [
       "plot without title"
      ]
     },
     "metadata": {
      "image/png": {
       "height": 420,
       "width": 420
      }
     },
     "output_type": "display_data"
    }
   ],
   "source": [
    "# *total* number of words per child (i.e., not unique words)\n",
    "# so that we can determine what proportion of the words constitute the top-5\n",
    "child_word_count_total <- bind_rows(word_list) %>%\n",
    "  group_by(file_name) %>%\n",
    "  count(.)\n",
    "\n",
    "# add age\n",
    "child_word_count_total <- merge(data_guide_short, child_word_count_total, by='file_name')\n",
    "\n",
    "cor.test(child_word_count_total$age_at_recording_months, child_word_count_total$n)\n",
    "\n",
    "# plot against age\n",
    "ggplot(data = child_word_count_total, aes(x = age_at_recording_months, y = n)) +\n",
    "  geom_smooth(method = 'lm', se = T, color = 'grey20') +\n",
    "  geom_point(size = 2, color = 'grey20') + \n",
    "  theme_minimal(base_size = 18) +\n",
    "  theme(panel.grid.major = element_blank(), \n",
    "        panel.grid.minor = element_blank(),\n",
    "        axis.text.x=element_text(colour=\"black\"),\n",
    "        axis.text.y=element_text(colour=\"black\")) +\n",
    "  xlab('Age at recording (months)') + ylab('Total words spoken')\n"
   ]
  },
  {
   "cell_type": "code",
   "execution_count": 69,
   "metadata": {},
   "outputs": [
    {
     "name": "stderr",
     "output_type": "stream",
     "text": [
      "`geom_smooth()` using formula 'y ~ x'\n",
      "\n"
     ]
    },
    {
     "data": {
      "image/png": "[encoded data removed]",
      "text/plain": [
       "plot without title"
      ]
     },
     "metadata": {
      "image/png": {
       "height": 420,
       "width": 420
      }
     },
     "output_type": "display_data"
    }
   ],
   "source": [
    "# now calculate the proportion of the total words spoken that consists of each of the top five words\n",
    "child_word_prop <- merge(top_five_by_child, child_word_count_total, by = 'file_name')\n",
    "child_word_prop$prop <- child_word_prop$count_child / child_word_prop$n\n",
    "\n",
    "ggplot(data = child_word_prop, aes(x = age_at_recording_months.x, y = prop, color = Word)) +\n",
    "  geom_smooth(aes(group = Word, color = Word), method = 'lm', se = F) +\n",
    "  geom_point(size = 2) + \n",
    "  scale_color_manual(values=met.brewer(\"Hokusai1\")[c(2,4:7)]) +\n",
    "  theme_minimal(base_size = 18) +\n",
    "  theme(panel.grid.major = element_blank(), \n",
    "        panel.grid.minor = element_blank(),\n",
    "        axis.text.x=element_text(colour=\"black\"),\n",
    "        axis.text.y=element_text(colour=\"black\")) +\n",
    "  xlab('Age at recording (months)') + ylab('Proportion of all words spoken')\n"
   ]
  },
  {
   "cell_type": "code",
   "execution_count": 73,
   "metadata": {},
   "outputs": [
    {
     "data": {
      "text/plain": [
       "\n",
       "Error: file_name\n",
       "                          Df   Sum Sq   Mean Sq F value Pr(>F)\n",
       "age_at_recording_months.x  1 0.000071 0.0000706   0.213  0.649\n",
       "Residuals                 22 0.007308 0.0003322               \n",
       "\n",
       "Error: file_name:word\n",
       "                               Df  Sum Sq  Mean Sq F value   Pr(>F)    \n",
       "word                            4 0.02596 0.006491  13.868 8.22e-09 ***\n",
       "word:age_at_recording_months.x  4 0.00365 0.000911   1.947     0.11    \n",
       "Residuals                      88 0.04119 0.000468                     \n",
       "---\n",
       "Signif. codes:  0 '***' 0.001 '**' 0.01 '*' 0.05 '.' 0.1 ' ' 1"
      ]
     },
     "metadata": {},
     "output_type": "display_data"
    },
    {
     "data": {
      "text/plain": [
       "\n",
       "\tPearson's product-moment correlation\n",
       "\n",
       "data:  prop_wide$age_at_recording_months.x and prop_wide$prop.i\n",
       "t = -0.95297, df = 22, p-value = 0.351\n",
       "alternative hypothesis: true correlation is not equal to 0\n",
       "95 percent confidence interval:\n",
       " -0.5577081  0.2221323\n",
       "sample estimates:\n",
       "       cor \n",
       "-0.1991058 \n"
      ]
     },
     "metadata": {},
     "output_type": "display_data"
    },
    {
     "data": {
      "text/plain": [
       "\n",
       "\tPearson's product-moment correlation\n",
       "\n",
       "data:  prop_wide$age_at_recording_months.x and prop_wide$prop.a\n",
       "t = 0.29099, df = 22, p-value = 0.7738\n",
       "alternative hypothesis: true correlation is not equal to 0\n",
       "95 percent confidence interval:\n",
       " -0.3502248  0.4539771\n",
       "sample estimates:\n",
       "       cor \n",
       "0.06191992 \n"
      ]
     },
     "metadata": {},
     "output_type": "display_data"
    },
    {
     "data": {
      "text/plain": [
       "\n",
       "\tPearson's product-moment correlation\n",
       "\n",
       "data:  prop_wide$age_at_recording_months.x and prop_wide$prop.and\n",
       "t = 0.28767, df = 22, p-value = 0.7763\n",
       "alternative hypothesis: true correlation is not equal to 0\n",
       "95 percent confidence interval:\n",
       " -0.3508436  0.4534168\n",
       "sample estimates:\n",
       "       cor \n",
       "0.06121717 \n"
      ]
     },
     "metadata": {},
     "output_type": "display_data"
    },
    {
     "data": {
      "text/plain": [
       "\n",
       "\tPearson's product-moment correlation\n",
       "\n",
       "data:  prop_wide$age_at_recording_months.x and prop_wide$prop.the\n",
       "t = 2.7056, df = 22, p-value = 0.01292\n",
       "alternative hypothesis: true correlation is not equal to 0\n",
       "95 percent confidence interval:\n",
       " 0.1205656 0.7515700\n",
       "sample estimates:\n",
       "     cor \n",
       "0.499661 \n"
      ]
     },
     "metadata": {},
     "output_type": "display_data"
    },
    {
     "data": {
      "text/plain": [
       "\n",
       "\tPearson's product-moment correlation\n",
       "\n",
       "data:  prop_wide$age_at_recording_months.x and prop_wide$prop.yeah\n",
       "t = -1.2735, df = 22, p-value = 0.2161\n",
       "alternative hypothesis: true correlation is not equal to 0\n",
       "95 percent confidence interval:\n",
       " -0.6018116  0.1580789\n",
       "sample estimates:\n",
       "       cor \n",
       "-0.2620269 \n"
      ]
     },
     "metadata": {},
     "output_type": "display_data"
    }
   ],
   "source": [
    "## evaluate relationship between word use proportion & age\n",
    "aov_time <- aov(prop ~ word + age_at_recording_months.x + word * age_at_recording_months.x\n",
    "                + Error(file_name/word), data=child_word_prop)\n",
    "summary(aov_time)\n",
    "\n",
    "#top_five_by_child\n",
    "prop_wide <- reshape(child_word_prop, idvar = c(\"file_name\",\"age_at_recording_months.x\",\"age_at_recording_months.y\"), \n",
    "                     timevar = \"word\", direction = \"wide\")\n",
    "\n",
    "# correlations\n",
    "# word: i\n",
    "cor.test(prop_wide$age_at_recording_months.x, prop_wide$prop.i)\n",
    "\n",
    "# word: a\n",
    "cor.test(prop_wide$age_at_recording_months.x, prop_wide$prop.a)\n",
    "\n",
    "# word: and\n",
    "cor.test(prop_wide$age_at_recording_months.x, prop_wide$prop.and)\n",
    "\n",
    "# word: the\n",
    "cor.test(prop_wide$age_at_recording_months.x, prop_wide$prop.the)\n",
    "\n",
    "# word: yeah\n",
    "cor.test(prop_wide$age_at_recording_months.x, prop_wide$prop.yeah)"
   ]
  },
  {
   "cell_type": "markdown",
   "metadata": {},
   "source": [
    "These data suggest that accounting for the total number of words does not meaningfully change the relationship. However, there may be more complex relationships between age, number of months of exposure to English, the number of hours children speak English per day, and other factors which could affect these relationships and could be explored in the future."
   ]
  },
  {
   "cell_type": "markdown",
   "metadata": {},
   "source": [
    "### Exploratory analysis: word clouds by age tertile <a name=\"wordclouds\"></a>\n",
    "Finally, let's carry out an exploratory analysis/visualization. We will split the kids into tertiles according to their ages, and plot the words they tend to use the most in word clouds. "
   ]
  },
  {
   "cell_type": "code",
   "execution_count": 78,
   "metadata": {},
   "outputs": [
    {
     "data": {
      "image/png": "[encoded data removed]",
      "text/plain": [
       "plot without title"
      ]
     },
     "metadata": {
      "image/png": {
       "height": 420,
       "width": 420
      }
     },
     "output_type": "display_data"
    },
    {
     "data": {
      "image/png": "[encoded data removed]",
      "text/plain": [
       "plot without title"
      ]
     },
     "metadata": {
      "image/png": {
       "height": 420,
       "width": 420
      }
     },
     "output_type": "display_data"
    },
    {
     "data": {
      "image/png": "[encoded data removed]",
      "text/plain": [
       "plot without title"
      ]
     },
     "metadata": {
      "image/png": {
       "height": 420,
       "width": 420
      }
     },
     "output_type": "display_data"
    }
   ],
   "source": [
    "# load wordcloud library\n",
    "library(wordcloud)\n",
    "\n",
    "# first, get all data\n",
    "data_all <- bind_rows(word_list)\n",
    "\n",
    "# divide data_guide into tertiles according to age\n",
    "data_guide_short$tertile <- ntile(data_guide_short$age_at_recording_months, 3)  \n",
    "\n",
    "# combine with *all* words spoken across all children\n",
    "data_tertiles <- merge(data_all, data_guide_short, by = 'file_name')\n",
    "\n",
    "# now summarize per tertile\n",
    "data_tert_sum <- data_tertiles %>%\n",
    "  group_by(tertile, word) %>%\n",
    "  count(., sort=T)\n",
    "\n",
    "mutate(data_tert_sum,\n",
    "       colors = case_when(word == 'a' ~ \"#b75347\",\n",
    "                          word == 'and' ~ \"#e09351\",\n",
    "                          word == 'i' ~ \"#edc775\",\n",
    "                          word == 'the' ~ \"#94b594\",\n",
    "                          word == 'yeah' ~ \"#224b5e\",\n",
    "                          TRUE ~ 'grey40')) -> data_tert_sum\n",
    "\n",
    "# split by tertile (maybe this can be done by facetting but whatever)\n",
    "tertile_1 <- filter(data_tert_sum, tertile == 1)\n",
    "tertile_2 <- filter(data_tert_sum, tertile == 2)\n",
    "tertile_3 <- filter(data_tert_sum, tertile == 3)\n",
    "\n",
    "wordcloud(words = tertile_1$word, freq = tertile_1$n, colors = tertile_1$colors,\n",
    "          random.order = FALSE, ordered.colors = TRUE, max.words = 50)\n",
    "\n",
    "wordcloud(words = tertile_2$word, freq = tertile_2$n, colors = tertile_2$colors,\n",
    "          random.order = FALSE, ordered.colors = TRUE, max.words = 50)\n",
    "\n",
    "wordcloud(words = tertile_3$word, freq = tertile_3$n, colors = tertile_3$colors,\n",
    "          random.order = FALSE, ordered.colors = TRUE, max.words = 50)\n",
    "\n"
   ]
  },
  {
   "cell_type": "code",
   "execution_count": 124,
   "metadata": {},
   "outputs": [
    {
     "data": {
      "image/png": "[encoded data removed]",
      "text/plain": [
       "plot without title"
      ]
     },
     "metadata": {
      "image/png": {
       "height": 420,
       "width": 420
      }
     },
     "output_type": "display_data"
    },
    {
     "data": {
      "image/png": "[encoded data removed]",
      "text/plain": [
       "plot without title"
      ]
     },
     "metadata": {
      "image/png": {
       "height": 420,
       "width": 420
      }
     },
     "output_type": "display_data"
    },
    {
     "data": {
      "image/png": "[encoded data removed]",
      "text/plain": [
       "plot without title"
      ]
     },
     "metadata": {
      "image/png": {
       "height": 420,
       "width": 420
      }
     },
     "output_type": "display_data"
    }
   ],
   "source": [
    "## finally, let's generate bar plots per tertile\n",
    "\n",
    "tertile_1_5 <- head(tertile_1, 5)\n",
    "tertile_2_5 <- head(tertile_2, 5)\n",
    "tertile_3_5 <- head(tertile_3, 5)\n",
    "\n",
    "\n",
    "MyPalette <- c('a' = \"#b75347\", 'and' = \"#e09351\", 'i' = \"#edc775\", 'the' =  \"#94b594\", 'yeah' = \"#224b5e\", 'um' = 'grey40')\n",
    "\n",
    "ggplot(data = tertile_1_5, aes(x = word, y = n)) + \n",
    "  geom_bar(stat= 'identity',aes(fill = word)) +\n",
    "  scale_fill_manual(values=MyPalette) +\n",
    "  theme_minimal(base_size = 18) +\n",
    "  theme(panel.grid.major = element_blank(), \n",
    "        panel.grid.minor = element_blank(),\n",
    "        axis.text.x=element_text(colour=\"black\"),\n",
    "        axis.text.y=element_text(colour=\"black\"),\n",
    "        legend.position=\"none\") +\n",
    "  xlab('Word') + ylab('Frequency of use')\n",
    "\n",
    "ggplot(data = tertile_2_5, aes(x = word, y = n)) + \n",
    "  geom_bar(stat= 'identity',aes(fill = word)) +\n",
    "  scale_fill_manual(values= MyPalette) +\n",
    "  theme_minimal(base_size = 18) +\n",
    "  theme(panel.grid.major = element_blank(), \n",
    "        panel.grid.minor = element_blank(),\n",
    "        axis.text.x=element_text(colour=\"black\"),\n",
    "        axis.text.y=element_text(colour=\"black\"),\n",
    "        legend.position=\"none\") +\n",
    "  xlab('Word') + ylab('Frequency of use')\n",
    "\n",
    "ggplot(data = tertile_3_5, aes(x = word, y = n)) + \n",
    "  geom_bar(stat= 'identity',aes(fill = word)) +\n",
    "  scale_fill_manual(values= MyPalette) +\n",
    "  theme_minimal(base_size = 18) +\n",
    "  theme(panel.grid.major = element_blank(), \n",
    "        panel.grid.minor = element_blank(),\n",
    "        axis.text.x=element_text(colour=\"black\"),\n",
    "        axis.text.y=element_text(colour=\"black\"),\n",
    "        legend.position=\"none\") +\n",
    "  xlab('Word') + ylab('Frequency of use')"
   ]
  }
 ],
 "metadata": {
  "kernelspec": {
   "display_name": "R",
   "language": "R",
   "name": "ir"
  },
  "language_info": {
   "codemirror_mode": "r",
   "file_extension": ".r",
   "mimetype": "text/x-r-source",
   "name": "R",
   "pygments_lexer": "r",
   "version": "3.6.3"
  }
 },
 "nbformat": 4,
 "nbformat_minor": 4
}
